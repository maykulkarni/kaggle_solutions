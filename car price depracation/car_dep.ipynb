{
 "cells": [
  {
   "cell_type": "code",
   "execution_count": 13,
   "metadata": {},
   "outputs": [],
   "source": [
    "import pandas as pd\n",
    "import numpy as np\n",
    "import seaborn as sns\n",
    "import pylab\n",
    "import matplotlib.pyplot as plt\n",
    "tl = plt.tight_layout"
   ]
  },
  {
   "cell_type": "code",
   "execution_count": 14,
   "metadata": {},
   "outputs": [],
   "source": [
    "pylab.rcParams['figure.figsize'] = (12, 5)"
   ]
  },
  {
   "cell_type": "code",
   "execution_count": 15,
   "metadata": {},
   "outputs": [
    {
     "data": {
      "text/html": [
       "<div>\n",
       "<style scoped>\n",
       "    .dataframe tbody tr th:only-of-type {\n",
       "        vertical-align: middle;\n",
       "    }\n",
       "\n",
       "    .dataframe tbody tr th {\n",
       "        vertical-align: top;\n",
       "    }\n",
       "\n",
       "    .dataframe thead th {\n",
       "        text-align: right;\n",
       "    }\n",
       "</style>\n",
       "<table border=\"1\" class=\"dataframe\">\n",
       "  <thead>\n",
       "    <tr style=\"text-align: right;\">\n",
       "      <th></th>\n",
       "      <th>MMV</th>\n",
       "      <th>Make</th>\n",
       "      <th>Model</th>\n",
       "      <th>Variant</th>\n",
       "      <th>Type</th>\n",
       "      <th>Fuel Type</th>\n",
       "      <th>Age</th>\n",
       "      <th>Transmission</th>\n",
       "      <th>Color</th>\n",
       "      <th>Kms</th>\n",
       "      <th>No of Owner</th>\n",
       "      <th>Heath score</th>\n",
       "      <th>price score</th>\n",
       "      <th>on road price</th>\n",
       "      <th>Current Price</th>\n",
       "      <th>Dep</th>\n",
       "    </tr>\n",
       "  </thead>\n",
       "  <tbody>\n",
       "    <tr>\n",
       "      <th>0</th>\n",
       "      <td>HyundaiI10Sportz 1.2</td>\n",
       "      <td>Hyundai</td>\n",
       "      <td>I10</td>\n",
       "      <td>Sportz 1.2</td>\n",
       "      <td>Hatchback</td>\n",
       "      <td>Petrol</td>\n",
       "      <td>3</td>\n",
       "      <td>Manual</td>\n",
       "      <td>White</td>\n",
       "      <td>12,000</td>\n",
       "      <td>1</td>\n",
       "      <td>8.5</td>\n",
       "      <td>8.8</td>\n",
       "      <td>537850</td>\n",
       "      <td>338352</td>\n",
       "      <td>37.1</td>\n",
       "    </tr>\n",
       "    <tr>\n",
       "      <th>1</th>\n",
       "      <td>HyundaiI20Magna (O) 1.2</td>\n",
       "      <td>Hyundai</td>\n",
       "      <td>I20</td>\n",
       "      <td>Magna (O) 1.2</td>\n",
       "      <td>Hatchback</td>\n",
       "      <td>Petrol</td>\n",
       "      <td>9</td>\n",
       "      <td>Manual</td>\n",
       "      <td>Beige</td>\n",
       "      <td>68,000</td>\n",
       "      <td>1</td>\n",
       "      <td>5.0</td>\n",
       "      <td>7.3</td>\n",
       "      <td>613863</td>\n",
       "      <td>189200</td>\n",
       "      <td>69.2</td>\n",
       "    </tr>\n",
       "    <tr>\n",
       "      <th>2</th>\n",
       "      <td>HyundaiI20Sportz 1.2</td>\n",
       "      <td>Hyundai</td>\n",
       "      <td>I20</td>\n",
       "      <td>Sportz 1.2</td>\n",
       "      <td>Hatchback</td>\n",
       "      <td>Petrol</td>\n",
       "      <td>8</td>\n",
       "      <td>Manual</td>\n",
       "      <td>White</td>\n",
       "      <td>31,143</td>\n",
       "      <td>1</td>\n",
       "      <td>6.2</td>\n",
       "      <td>4.6</td>\n",
       "      <td>678359</td>\n",
       "      <td>347568</td>\n",
       "      <td>48.8</td>\n",
       "    </tr>\n",
       "    <tr>\n",
       "      <th>3</th>\n",
       "      <td>HyundaiNeo Fluidic Elantra1.6SxAtCrdi</td>\n",
       "      <td>Hyundai</td>\n",
       "      <td>Neo Fluidic Elantra</td>\n",
       "      <td>1.6SxAtCrdi</td>\n",
       "      <td>Sedan</td>\n",
       "      <td>Diesel</td>\n",
       "      <td>2</td>\n",
       "      <td>Automatic</td>\n",
       "      <td>Silver</td>\n",
       "      <td>6,000</td>\n",
       "      <td>1</td>\n",
       "      <td>8.5</td>\n",
       "      <td>7.9</td>\n",
       "      <td>2228480</td>\n",
       "      <td>1629250</td>\n",
       "      <td>26.9</td>\n",
       "    </tr>\n",
       "    <tr>\n",
       "      <th>4</th>\n",
       "      <td>HyundaiSantro XingXo</td>\n",
       "      <td>Hyundai</td>\n",
       "      <td>Santro Xing</td>\n",
       "      <td>Xo</td>\n",
       "      <td>Hatchback</td>\n",
       "      <td>Petrol</td>\n",
       "      <td>11</td>\n",
       "      <td>Manual</td>\n",
       "      <td>Golden</td>\n",
       "      <td>100,000</td>\n",
       "      <td>2</td>\n",
       "      <td>4.3</td>\n",
       "      <td>9.9</td>\n",
       "      <td>453719</td>\n",
       "      <td>86240</td>\n",
       "      <td>81.0</td>\n",
       "    </tr>\n",
       "  </tbody>\n",
       "</table>\n",
       "</div>"
      ],
      "text/plain": [
       "                                     MMV     Make                Model  \\\n",
       "0                   HyundaiI10Sportz 1.2  Hyundai                  I10   \n",
       "1                HyundaiI20Magna (O) 1.2  Hyundai                  I20   \n",
       "2                   HyundaiI20Sportz 1.2  Hyundai                  I20   \n",
       "3  HyundaiNeo Fluidic Elantra1.6SxAtCrdi  Hyundai  Neo Fluidic Elantra   \n",
       "4                   HyundaiSantro XingXo  Hyundai          Santro Xing   \n",
       "\n",
       "         Variant       Type Fuel Type  Age Transmission   Color      Kms  \\\n",
       "0     Sportz 1.2  Hatchback    Petrol    3       Manual   White   12,000   \n",
       "1  Magna (O) 1.2  Hatchback    Petrol    9       Manual   Beige   68,000   \n",
       "2     Sportz 1.2  Hatchback    Petrol    8       Manual   White   31,143   \n",
       "3    1.6SxAtCrdi      Sedan    Diesel    2    Automatic  Silver    6,000   \n",
       "4             Xo  Hatchback    Petrol   11       Manual  Golden  100,000   \n",
       "\n",
       "   No of Owner  Heath score  price score  on road price  Current Price   Dep  \n",
       "0            1          8.5          8.8         537850         338352  37.1  \n",
       "1            1          5.0          7.3         613863         189200  69.2  \n",
       "2            1          6.2          4.6         678359         347568  48.8  \n",
       "3            1          8.5          7.9        2228480        1629250  26.9  \n",
       "4            2          4.3          9.9         453719          86240  81.0  "
      ]
     },
     "execution_count": 15,
     "metadata": {},
     "output_type": "execute_result"
    }
   ],
   "source": [
    "df = pd.read_csv(\"data.csv\")\n",
    "df.head()"
   ]
  },
  {
   "cell_type": "code",
   "execution_count": 16,
   "metadata": {},
   "outputs": [
    {
     "data": {
      "text/plain": [
       "HondaCity ZxGXi             0.182072\n",
       "HondaCivic1.8V AT           0.163274\n",
       "HondaCivic1.8S MT           0.152603\n",
       "HondaAccord2.4 AT           0.104922\n",
       "HondaCivic1.8V MT           0.104897\n",
       "ToyotaCorolla Altis1.8 G    0.102715\n",
       "HondaCity ZxEXi             0.099857\n",
       "HondaCityZx                 0.093926\n",
       "Maruti SuzukiSx4ZXi         0.089893\n",
       "HondaAccord2.4 VTi-L MT     0.088938\n",
       "Maruti SuzukiSx4VXi         0.081692\n",
       "HyundaiAccentGLE            0.074432\n",
       "HondaCivic1.8Mt             0.070219\n",
       "ToyotaCorollaG              0.069463\n",
       "Name: Dep, dtype: float64"
      ]
     },
     "execution_count": 16,
     "metadata": {},
     "output_type": "execute_result"
    }
   ],
   "source": [
    "# are MMV and dep correlated? \n",
    "\n",
    "df_mmv = pd.get_dummies(df[\"MMV\"])\n",
    "df_mmv[\"Dep\"] = df[\"Dep\"]\n",
    "mmv_corr = df_mmv.corr()\n",
    "mmv_corr[\"Dep\"].sort_values()[::-1][1:15]"
   ]
  },
  {
   "cell_type": "markdown",
   "metadata": {},
   "source": [
    "Very weak correlation between MMV and dep"
   ]
  },
  {
   "cell_type": "code",
   "execution_count": 17,
   "metadata": {},
   "outputs": [
    {
     "data": {
      "text/plain": [
       "array(['Manual', 'Automatic', 'Automated Manual Transmission'],\n",
       "      dtype=object)"
      ]
     },
     "execution_count": 17,
     "metadata": {},
     "output_type": "execute_result"
    }
   ],
   "source": [
    "df[\"Transmission\"].unique()"
   ]
  },
  {
   "cell_type": "code",
   "execution_count": 18,
   "metadata": {},
   "outputs": [],
   "source": [
    "irrelevant = [\"MMV\", \"Model\", \"Variant\", \"Color\"] \n",
    "df = df.drop(irrelevant, axis=1)"
   ]
  },
  {
   "cell_type": "code",
   "execution_count": 19,
   "metadata": {},
   "outputs": [
    {
     "data": {
      "text/html": [
       "<div>\n",
       "<style scoped>\n",
       "    .dataframe tbody tr th:only-of-type {\n",
       "        vertical-align: middle;\n",
       "    }\n",
       "\n",
       "    .dataframe tbody tr th {\n",
       "        vertical-align: top;\n",
       "    }\n",
       "\n",
       "    .dataframe thead th {\n",
       "        text-align: right;\n",
       "    }\n",
       "</style>\n",
       "<table border=\"1\" class=\"dataframe\">\n",
       "  <thead>\n",
       "    <tr style=\"text-align: right;\">\n",
       "      <th></th>\n",
       "      <th>Make</th>\n",
       "      <th>Type</th>\n",
       "      <th>Fuel Type</th>\n",
       "      <th>Age</th>\n",
       "      <th>Transmission</th>\n",
       "      <th>Kms</th>\n",
       "      <th>No of Owner</th>\n",
       "      <th>Heath score</th>\n",
       "      <th>price score</th>\n",
       "      <th>on road price</th>\n",
       "      <th>Current Price</th>\n",
       "      <th>Dep</th>\n",
       "    </tr>\n",
       "  </thead>\n",
       "  <tbody>\n",
       "    <tr>\n",
       "      <th>0</th>\n",
       "      <td>Hyundai</td>\n",
       "      <td>Hatchback</td>\n",
       "      <td>petrol</td>\n",
       "      <td>3</td>\n",
       "      <td>Manual</td>\n",
       "      <td>12000</td>\n",
       "      <td>1</td>\n",
       "      <td>8.5</td>\n",
       "      <td>8.8</td>\n",
       "      <td>537850</td>\n",
       "      <td>338352</td>\n",
       "      <td>37.1</td>\n",
       "    </tr>\n",
       "    <tr>\n",
       "      <th>1</th>\n",
       "      <td>Hyundai</td>\n",
       "      <td>Hatchback</td>\n",
       "      <td>petrol</td>\n",
       "      <td>9</td>\n",
       "      <td>Manual</td>\n",
       "      <td>68000</td>\n",
       "      <td>1</td>\n",
       "      <td>5.0</td>\n",
       "      <td>7.3</td>\n",
       "      <td>613863</td>\n",
       "      <td>189200</td>\n",
       "      <td>69.2</td>\n",
       "    </tr>\n",
       "    <tr>\n",
       "      <th>2</th>\n",
       "      <td>Hyundai</td>\n",
       "      <td>Hatchback</td>\n",
       "      <td>petrol</td>\n",
       "      <td>8</td>\n",
       "      <td>Manual</td>\n",
       "      <td>31143</td>\n",
       "      <td>1</td>\n",
       "      <td>6.2</td>\n",
       "      <td>4.6</td>\n",
       "      <td>678359</td>\n",
       "      <td>347568</td>\n",
       "      <td>48.8</td>\n",
       "    </tr>\n",
       "    <tr>\n",
       "      <th>3</th>\n",
       "      <td>Hyundai</td>\n",
       "      <td>Sedan</td>\n",
       "      <td>diesel</td>\n",
       "      <td>2</td>\n",
       "      <td>Automatic</td>\n",
       "      <td>6000</td>\n",
       "      <td>1</td>\n",
       "      <td>8.5</td>\n",
       "      <td>7.9</td>\n",
       "      <td>2228480</td>\n",
       "      <td>1629250</td>\n",
       "      <td>26.9</td>\n",
       "    </tr>\n",
       "    <tr>\n",
       "      <th>4</th>\n",
       "      <td>Hyundai</td>\n",
       "      <td>Hatchback</td>\n",
       "      <td>petrol</td>\n",
       "      <td>11</td>\n",
       "      <td>Manual</td>\n",
       "      <td>100000</td>\n",
       "      <td>2</td>\n",
       "      <td>4.3</td>\n",
       "      <td>9.9</td>\n",
       "      <td>453719</td>\n",
       "      <td>86240</td>\n",
       "      <td>81.0</td>\n",
       "    </tr>\n",
       "  </tbody>\n",
       "</table>\n",
       "</div>"
      ],
      "text/plain": [
       "      Make       Type Fuel Type  Age Transmission     Kms  No of Owner  \\\n",
       "0  Hyundai  Hatchback    petrol    3       Manual   12000            1   \n",
       "1  Hyundai  Hatchback    petrol    9       Manual   68000            1   \n",
       "2  Hyundai  Hatchback    petrol    8       Manual   31143            1   \n",
       "3  Hyundai      Sedan    diesel    2    Automatic    6000            1   \n",
       "4  Hyundai  Hatchback    petrol   11       Manual  100000            2   \n",
       "\n",
       "   Heath score  price score  on road price  Current Price   Dep  \n",
       "0          8.5          8.8         537850         338352  37.1  \n",
       "1          5.0          7.3         613863         189200  69.2  \n",
       "2          6.2          4.6         678359         347568  48.8  \n",
       "3          8.5          7.9        2228480        1629250  26.9  \n",
       "4          4.3          9.9         453719          86240  81.0  "
      ]
     },
     "execution_count": 19,
     "metadata": {},
     "output_type": "execute_result"
    }
   ],
   "source": [
    "# convert Kms to int\n",
    "df[\"Kms\"] = df[\"Kms\"].apply(lambda x: int(x.replace(\",\", \"\")))\n",
    "\n",
    "# normalize fuel tyes for \"CNG\" and \"cng\"\n",
    "df[\"Fuel Type\"] = df[\"Fuel Type\"].apply(str.lower)\n",
    "\n",
    "df.head()"
   ]
  },
  {
   "cell_type": "code",
   "execution_count": 20,
   "metadata": {},
   "outputs": [
    {
     "data": {
      "text/plain": [
       "array(['Manual', 'Automatic', 'Automated Manual Transmission'],\n",
       "      dtype=object)"
      ]
     },
     "execution_count": 20,
     "metadata": {},
     "output_type": "execute_result"
    }
   ],
   "source": [
    "df[\"Transmission\"].unique()"
   ]
  },
  {
   "cell_type": "code",
   "execution_count": 21,
   "metadata": {},
   "outputs": [
    {
     "data": {
      "text/plain": [
       "['Make', 'Type', 'Fuel Type', 'Transmission']"
      ]
     },
     "execution_count": 21,
     "metadata": {},
     "output_type": "execute_result"
    }
   ],
   "source": [
    "[x for x in df.columns if df[x].dtype == np.dtype(\"O\")]"
   ]
  },
  {
   "cell_type": "code",
   "execution_count": 22,
   "metadata": {},
   "outputs": [],
   "source": [
    "def kill_multicollinearity(original_df):\n",
    "    print(\"Original DF columns: {}\".format(len(original_df.columns)))    \n",
    "    categorical_columns = [x for x in original_df.columns.tolist() if original_df[x].dtype == np.dtype(\"O\")]\n",
    "    ip_df = pd.get_dummies(original_df.copy())\n",
    "    print(\"Columns after one hot encode: {}\".format(len(ip_df.columns)))\n",
    "    print(\"Categorical columns: {}\".format(categorical_columns))\n",
    "    for categorical_column in categorical_columns:\n",
    "        unique_values = original_df[categorical_column].unique()\n",
    "        ip_df = ip_df.drop(categorical_column + \"_\" + unique_values[-1], axis=1)\n",
    "        print(\"Dropping: {}\".format(unique_values[-1]))\n",
    "    print(\"Columns after: {}\".format(len(ip_df.columns)))\n",
    "    return ip_df"
   ]
  },
  {
   "cell_type": "code",
   "execution_count": 23,
   "metadata": {},
   "outputs": [
    {
     "name": "stdout",
     "output_type": "stream",
     "text": [
      "Original DF columns: 12\n",
      "Columns after one hot encode: 27\n",
      "Categorical columns: ['Make', 'Type', 'Fuel Type', 'Transmission']\n",
      "Dropping: Toyota\n",
      "Dropping: Crossover\n",
      "Dropping: lpg\n",
      "Dropping: Automated Manual Transmission\n",
      "Columns after: 23\n"
     ]
    }
   ],
   "source": [
    "df = kill_multicollinearity(df)"
   ]
  },
  {
   "cell_type": "code",
   "execution_count": 25,
   "metadata": {},
   "outputs": [
    {
     "data": {
      "image/png": "[encoded data removed]",
      "text/plain": [
       "<Figure size 864x360 with 1 Axes>"
      ]
     },
     "metadata": {},
     "output_type": "display_data"
    }
   ],
   "source": [
    "plt.scatter(df[\"Age\"], df[\"Dep\"])\n",
    "tl()"
   ]
  },
  {
   "cell_type": "code",
   "execution_count": 26,
   "metadata": {},
   "outputs": [],
   "source": [
    "df_one_hot = pd.get_dummies(df)"
   ]
  },
  {
   "cell_type": "code",
   "execution_count": 27,
   "metadata": {},
   "outputs": [
    {
     "data": {
      "text/plain": [
       "Index(['Age', 'Kms', 'No of Owner', 'Heath score', 'price score',\n",
       "       'on road price', 'Current Price', 'Dep', 'Make_Honda', 'Make_Hyundai',\n",
       "       'Make_Maruti Suzuki', 'Type_Hatchback', 'Type_MUV', 'Type_SUV',\n",
       "       'Type_Sedan', 'Type_Van', 'Fuel Type_cng', 'Fuel Type_diesel',\n",
       "       'Fuel Type_petrol', 'Fuel Type_petrol + cng', 'Fuel Type_petrol + lpg',\n",
       "       'Transmission_Automatic', 'Transmission_Manual'],\n",
       "      dtype='object')"
      ]
     },
     "execution_count": 27,
     "metadata": {},
     "output_type": "execute_result"
    }
   ],
   "source": [
    "df_one_hot.columns"
   ]
  },
  {
   "cell_type": "code",
   "execution_count": 28,
   "metadata": {},
   "outputs": [
    {
     "data": {
      "image/png": "[encoded data removed]",
      "text/plain": [
       "<Figure size 864x648 with 2 Axes>"
      ]
     },
     "metadata": {},
     "output_type": "display_data"
    }
   ],
   "source": [
    "corr_mat = df_one_hot.corr()\n",
    "plt.subplots(figsize=(12, 9))\n",
    "sns.heatmap(corr_mat)\n",
    "tl()"
   ]
  },
  {
   "cell_type": "code",
   "execution_count": 29,
   "metadata": {},
   "outputs": [
    {
     "data": {
      "text/plain": [
       "Dep                       1.000000\n",
       "Age                       0.801580\n",
       "price score               0.426554\n",
       "Type_Sedan                0.333235\n",
       "Make_Honda                0.299646\n",
       "No of Owner               0.288543\n",
       "Fuel Type_petrol          0.255682\n",
       "Kms                       0.241413\n",
       "on road price             0.151973\n",
       "Transmission_Automatic    0.037868\n",
       "Fuel Type_petrol + lpg    0.004794\n",
       "Fuel Type_cng             0.000992\n",
       "Transmission_Manual      -0.028218\n",
       "Type_Van                 -0.028888\n",
       "Heath score              -0.036664\n",
       "Make_Hyundai             -0.073695\n",
       "Type_SUV                 -0.076160\n",
       "Fuel Type_petrol + cng   -0.077331\n",
       "Make_Maruti Suzuki       -0.155255\n",
       "Type_Hatchback           -0.159408\n",
       "Type_MUV                 -0.236768\n",
       "Fuel Type_diesel         -0.240213\n",
       "Current Price            -0.504591\n",
       "Name: Dep, dtype: float64"
      ]
     },
     "execution_count": 29,
     "metadata": {},
     "output_type": "execute_result"
    }
   ],
   "source": [
    "corr_mat[\"Dep\"].sort_values()[::-1]"
   ]
  },
  {
   "cell_type": "code",
   "execution_count": 30,
   "metadata": {},
   "outputs": [
    {
     "data": {
      "image/png": "[encoded data removed]",
      "text/plain": [
       "<Figure size 864x360 with 1 Axes>"
      ]
     },
     "metadata": {},
     "output_type": "display_data"
    }
   ],
   "source": [
    "df[\"Dep\"].hist(bins=50, edgecolor=\"black\")\n",
    "plt.title(\"Depracation follows Gaussian Distribution\")\n",
    "tl()"
   ]
  },
  {
   "cell_type": "code",
   "execution_count": 31,
   "metadata": {},
   "outputs": [
    {
     "data": {
      "image/png": "[encoded data removed]",
      "text/plain": [
       "<Figure size 864x360 with 1 Axes>"
      ]
     },
     "metadata": {},
     "output_type": "display_data"
    }
   ],
   "source": [
    "np.log(np.sqrt(df[\"No of Owner\"])).hist(edgecolor=\"black\")\n",
    "plt.title(\"No of owner is not much affected by transformation\")\n",
    "tl()"
   ]
  },
  {
   "cell_type": "code",
   "execution_count": 32,
   "metadata": {},
   "outputs": [
    {
     "data": {
      "image/png": "[encoded data removed]",
      "text/plain": [
       "<Figure size 864x360 with 2 Axes>"
      ]
     },
     "metadata": {},
     "output_type": "display_data"
    }
   ],
   "source": [
    "# df[\"Current Price\"].hist()\n",
    "plt.subplot(1, 2, 1)\n",
    "plt.title(\"Current Price Without Transformation\")\n",
    "plt.hist(df[\"Current Price\"], edgecolor=\"black\", label=\"Skew: {0:.2f}\".format(df[\"Current Price\"].skew()))\n",
    "plt.legend()\n",
    "plt.subplot(1, 2, 2)\n",
    "plt.title(\"Current Price After Log-Sqrt Transformation\")\n",
    "plt.hist(np.log(np.sqrt(df[\"Current Price\"] + 1)), edgecolor=\"black\", \n",
    "         label=\"Skew: {0:.2f}\".format(np.log(np.sqrt(df[\"Current Price\"] + 1).skew())))\n",
    "plt.legend()\n",
    "tl()\n",
    "df[\"Current Price\"] = np.log(np.sqrt(df[\"Current Price\"] + 1))"
   ]
  },
  {
   "cell_type": "code",
   "execution_count": 33,
   "metadata": {
    "scrolled": false
   },
   "outputs": [
    {
     "data": {
      "image/png": "[encoded data removed]",
      "text/plain": [
       "<Figure size 864x360 with 2 Axes>"
      ]
     },
     "metadata": {},
     "output_type": "display_data"
    }
   ],
   "source": [
    "plt.subplot(1, 2, 1)\n",
    "plt.title(\"On Road Price Without Transformation\")\n",
    "plt.hist(df[\"on road price\"], edgecolor=\"black\", label=\"Skew: {0:.2f}\".format(df[\"on road price\"].skew()))\n",
    "plt.legend()\n",
    "plt.subplot(1, 2, 2)\n",
    "plt.title(\"On Road Price After Log-Sqrt Transformation\")\n",
    "plt.hist(np.log(np.sqrt(df[\"on road price\"] + 1)), edgecolor=\"black\", \n",
    "         label=\"Skew: {0:.2f}\".format(np.log(np.sqrt(df[\"on road price\"] + 1)).skew()))\n",
    "plt.legend()\n",
    "tl()\n",
    "df[\"on road price\"] = np.log(np.sqrt(df[\"on road price\"] + 1))"
   ]
  },
  {
   "cell_type": "code",
   "execution_count": 74,
   "metadata": {},
   "outputs": [
    {
     "name": "stdout",
     "output_type": "stream",
     "text": [
      "Split: 1 MSE: 1.590460 R2: 0.99\n",
      "Split: 2 MSE: 1.236363 R2: 1.00\n",
      "Split: 3 MSE: 0.928584 R2: 1.00\n",
      "Split: 4 MSE: 1.380705 R2: 1.00\n",
      "Split: 5 MSE: 0.907315 R2: 1.00\n",
      "Split: 6 MSE: 0.808362 R2: 1.00\n",
      "Split: 7 MSE: 1.579036 R2: 1.00\n",
      "Split: 8 MSE: 1.066163 R2: 1.00\n",
      "Split: 9 MSE: 1.072740 R2: 1.00\n",
      "Split: 10 MSE: 1.078292 R2: 1.00\n",
      "Average MSE: 1.16480 R2: 1.00\n"
     ]
    }
   ],
   "source": [
    "from sklearn.preprocessing import StandardScaler\n",
    "from sklearn.model_selection import ShuffleSplit\n",
    "from xgboost import XGBRegressor\n",
    "from lightgbm import LGBMRegressor\n",
    "from sklearn.ensemble import GradientBoostingRegressor, GradientBoostingRegressor\n",
    "from sklearn.linear_model import Ridge, Lasso, HuberRegressor\n",
    "from sklearn.neural_network import MLPRegressor\n",
    "from sklearn.metrics import mean_squared_error, r2_score\n",
    "\n",
    "independent_cols = df.columns.tolist()\n",
    "independent_cols.remove(\"Dep\")\n",
    "X = df[independent_cols].values\n",
    "y = df[\"Dep\"].values\n",
    "indx = 0\n",
    "avg_mse = 0\n",
    "avg_r2 = 0\n",
    "\n",
    "\n",
    "for train_index, test_index in ShuffleSplit(n_splits=10, test_size=0.2).split(X):\n",
    "    indx += 1\n",
    "    X_train = X[train_index]\n",
    "    X_test = X[test_index]\n",
    "    y_train = y[train_index]\n",
    "    y_test = y[test_index]\n",
    "    \n",
    "    # Scale training data\n",
    "    X_scaler = StandardScaler()\n",
    "    X_train = X_scaler.fit_transform(X_train)\n",
    "    X_test = X_scaler.transform(X_test)\n",
    "    \n",
    "    clf = MLPRegressor([200, 200, 100], learning_rate=\"adaptive\")\n",
    "    clf.fit(X_train, y_train)\n",
    "    y_pred = clf.predict(X_test)\n",
    "    mse = mean_squared_error(y_test, y_pred)\n",
    "    r2 = r2_score(y_test, y_pred)\n",
    "    avg_mse += mse\n",
    "    avg_r2 += r2\n",
    "    print(\"Split: {0} MSE: {1:5f} R2: {2:.2f}\".format(indx, mse, r2))\n",
    "    \n",
    "avg_mse /= indx\n",
    "avg_r2 /= indx\n",
    "print(\"Average MSE: {0:.5f} R2: {1:.2f}\".format(avg_mse, avg_r2))"
   ]
  },
  {
   "cell_type": "markdown",
   "metadata": {},
   "source": [
    "------------------------------------------------------\n",
    "\n",
    "| Model                      | Average MSE | R2      |\n",
    "|:---------------------------|:-----------:|:-------:|\n",
    "| XGBRegressor               |   14.79466  |  0.95   |\n",
    "| RandomForestRegressor      |   17.64451  |  0.94   |\n",
    "| GradientBoostingRegressor  |   13.87789  |  0.95   |\n",
    "| LGBMRegressor              |   5.55580   |  0.98   |\n",
    "| MLPRegressor               |   4.26425   |  0.99   |\n",
    "| MLPRegressor + Adaptive Rate|  1.16480   |  1.00   |"
   ]
  },
  {
   "cell_type": "code",
   "execution_count": null,
   "metadata": {},
   "outputs": [],
   "source": []
  }
 ],
 "metadata": {
  "kernelspec": {
   "display_name": "Python 3",
   "language": "python",
   "name": "python3"
  }
 },
 "nbformat": 4,
 "nbformat_minor": 2
}
